{
 "cells": [
  {
   "cell_type": "markdown",
   "metadata": {},
   "source": [
    "# Four Factors"
   ]
  },
  {
   "cell_type": "markdown",
   "metadata": {},
   "source": [
    "Para comenzar con este script, primero hay que aclarar que se van a calcular ocho factores.  \n",
    "Esto se debe al procedimiento de cálculo de victorias: primero se estima la puntuación de cada partido, y luego se compara con el del rival. Debido a esto, hace falta \"predecir\" la puntuación del rival y, con lo cual, calcular sus four factors primero."
   ]
  },
  {
   "cell_type": "code",
   "execution_count": 1,
   "metadata": {},
   "outputs": [],
   "source": [
    "# Primero se importan las librerías\n",
    "import os\n",
    "import pandas as pd\n",
    "from sklearn.model_selection import train_test_split\n",
    "from sklearn.linear_model import LinearRegression\n",
    "from sklearn.metrics import mean_squared_error, r2_score\n",
    "from matplotlib import pyplot as plt\n",
    "import numpy as np"
   ]
  },
  {
   "cell_type": "code",
   "execution_count": 2,
   "metadata": {
    "scrolled": true
   },
   "outputs": [
    {
     "data": {
      "text/html": [
       "<div>\n",
       "<style scoped>\n",
       "    .dataframe tbody tr th:only-of-type {\n",
       "        vertical-align: middle;\n",
       "    }\n",
       "\n",
       "    .dataframe tbody tr th {\n",
       "        vertical-align: top;\n",
       "    }\n",
       "\n",
       "    .dataframe thead th {\n",
       "        text-align: right;\n",
       "    }\n",
       "</style>\n",
       "<table border=\"1\" class=\"dataframe\">\n",
       "  <thead>\n",
       "    <tr style=\"text-align: right;\">\n",
       "      <th></th>\n",
       "      <th>efg</th>\n",
       "      <th>efg_opp</th>\n",
       "      <th>ftr</th>\n",
       "      <th>ftr_opp</th>\n",
       "      <th>orb</th>\n",
       "      <th>orb_opp</th>\n",
       "      <th>scr</th>\n",
       "      <th>scr_opp</th>\n",
       "      <th>tov</th>\n",
       "      <th>tov_opp</th>\n",
       "      <th>won</th>\n",
       "    </tr>\n",
       "  </thead>\n",
       "  <tbody>\n",
       "    <tr>\n",
       "      <th>0</th>\n",
       "      <td>0.525000</td>\n",
       "      <td>0.500000</td>\n",
       "      <td>0.739130</td>\n",
       "      <td>0.923077</td>\n",
       "      <td>0.228571</td>\n",
       "      <td>0.200000</td>\n",
       "      <td>80</td>\n",
       "      <td>74</td>\n",
       "      <td>0.146128</td>\n",
       "      <td>0.171317</td>\n",
       "      <td>1</td>\n",
       "    </tr>\n",
       "    <tr>\n",
       "      <th>1</th>\n",
       "      <td>0.516949</td>\n",
       "      <td>0.515873</td>\n",
       "      <td>0.600000</td>\n",
       "      <td>0.789474</td>\n",
       "      <td>0.218750</td>\n",
       "      <td>0.333333</td>\n",
       "      <td>67</td>\n",
       "      <td>80</td>\n",
       "      <td>0.136240</td>\n",
       "      <td>0.100806</td>\n",
       "      <td>0</td>\n",
       "    </tr>\n",
       "    <tr>\n",
       "      <th>2</th>\n",
       "      <td>0.575472</td>\n",
       "      <td>0.490909</td>\n",
       "      <td>0.761905</td>\n",
       "      <td>0.777778</td>\n",
       "      <td>0.407407</td>\n",
       "      <td>0.242424</td>\n",
       "      <td>77</td>\n",
       "      <td>68</td>\n",
       "      <td>0.138427</td>\n",
       "      <td>0.137137</td>\n",
       "      <td>1</td>\n",
       "    </tr>\n",
       "    <tr>\n",
       "      <th>3</th>\n",
       "      <td>0.373016</td>\n",
       "      <td>0.689394</td>\n",
       "      <td>0.785714</td>\n",
       "      <td>0.733333</td>\n",
       "      <td>0.350000</td>\n",
       "      <td>0.266667</td>\n",
       "      <td>58</td>\n",
       "      <td>102</td>\n",
       "      <td>0.206517</td>\n",
       "      <td>0.110294</td>\n",
       "      <td>0</td>\n",
       "    </tr>\n",
       "    <tr>\n",
       "      <th>4</th>\n",
       "      <td>0.675000</td>\n",
       "      <td>0.410448</td>\n",
       "      <td>0.812500</td>\n",
       "      <td>0.700000</td>\n",
       "      <td>0.320000</td>\n",
       "      <td>0.340426</td>\n",
       "      <td>94</td>\n",
       "      <td>69</td>\n",
       "      <td>0.129803</td>\n",
       "      <td>0.126728</td>\n",
       "      <td>1</td>\n",
       "    </tr>\n",
       "    <tr>\n",
       "      <th>5</th>\n",
       "      <td>0.530303</td>\n",
       "      <td>0.470588</td>\n",
       "      <td>1.000000</td>\n",
       "      <td>0.850000</td>\n",
       "      <td>0.222222</td>\n",
       "      <td>0.218750</td>\n",
       "      <td>73</td>\n",
       "      <td>65</td>\n",
       "      <td>0.129333</td>\n",
       "      <td>0.189702</td>\n",
       "      <td>1</td>\n",
       "    </tr>\n",
       "    <tr>\n",
       "      <th>6</th>\n",
       "      <td>0.401786</td>\n",
       "      <td>0.314286</td>\n",
       "      <td>0.708333</td>\n",
       "      <td>0.888889</td>\n",
       "      <td>0.225806</td>\n",
       "      <td>0.326531</td>\n",
       "      <td>62</td>\n",
       "      <td>60</td>\n",
       "      <td>0.203447</td>\n",
       "      <td>0.133452</td>\n",
       "      <td>1</td>\n",
       "    </tr>\n",
       "    <tr>\n",
       "      <th>7</th>\n",
       "      <td>0.453333</td>\n",
       "      <td>0.472727</td>\n",
       "      <td>0.846154</td>\n",
       "      <td>0.590909</td>\n",
       "      <td>0.333333</td>\n",
       "      <td>0.281250</td>\n",
       "      <td>79</td>\n",
       "      <td>65</td>\n",
       "      <td>0.100312</td>\n",
       "      <td>0.236183</td>\n",
       "      <td>1</td>\n",
       "    </tr>\n",
       "    <tr>\n",
       "      <th>8</th>\n",
       "      <td>0.507937</td>\n",
       "      <td>0.452830</td>\n",
       "      <td>0.785714</td>\n",
       "      <td>0.800000</td>\n",
       "      <td>0.314286</td>\n",
       "      <td>0.187500</td>\n",
       "      <td>75</td>\n",
       "      <td>64</td>\n",
       "      <td>0.103681</td>\n",
       "      <td>0.114613</td>\n",
       "      <td>1</td>\n",
       "    </tr>\n",
       "    <tr>\n",
       "      <th>9</th>\n",
       "      <td>0.492424</td>\n",
       "      <td>0.552632</td>\n",
       "      <td>0.866667</td>\n",
       "      <td>0.916667</td>\n",
       "      <td>0.333333</td>\n",
       "      <td>0.321429</td>\n",
       "      <td>78</td>\n",
       "      <td>85</td>\n",
       "      <td>0.141844</td>\n",
       "      <td>0.117555</td>\n",
       "      <td>0</td>\n",
       "    </tr>\n",
       "  </tbody>\n",
       "</table>\n",
       "</div>"
      ],
      "text/plain": [
       "        efg   efg_opp       ftr   ftr_opp       orb   orb_opp  scr  scr_opp  \\\n",
       "0  0.525000  0.500000  0.739130  0.923077  0.228571  0.200000   80       74   \n",
       "1  0.516949  0.515873  0.600000  0.789474  0.218750  0.333333   67       80   \n",
       "2  0.575472  0.490909  0.761905  0.777778  0.407407  0.242424   77       68   \n",
       "3  0.373016  0.689394  0.785714  0.733333  0.350000  0.266667   58      102   \n",
       "4  0.675000  0.410448  0.812500  0.700000  0.320000  0.340426   94       69   \n",
       "5  0.530303  0.470588  1.000000  0.850000  0.222222  0.218750   73       65   \n",
       "6  0.401786  0.314286  0.708333  0.888889  0.225806  0.326531   62       60   \n",
       "7  0.453333  0.472727  0.846154  0.590909  0.333333  0.281250   79       65   \n",
       "8  0.507937  0.452830  0.785714  0.800000  0.314286  0.187500   75       64   \n",
       "9  0.492424  0.552632  0.866667  0.916667  0.333333  0.321429   78       85   \n",
       "\n",
       "        tov   tov_opp  won  \n",
       "0  0.146128  0.171317    1  \n",
       "1  0.136240  0.100806    0  \n",
       "2  0.138427  0.137137    1  \n",
       "3  0.206517  0.110294    0  \n",
       "4  0.129803  0.126728    1  \n",
       "5  0.129333  0.189702    1  \n",
       "6  0.203447  0.133452    1  \n",
       "7  0.100312  0.236183    1  \n",
       "8  0.103681  0.114613    1  \n",
       "9  0.141844  0.117555    0  "
      ]
     },
     "execution_count": 2,
     "metadata": {},
     "output_type": "execute_result"
    }
   ],
   "source": [
    "# A continuación se cargan los datos\n",
    "wdir = os.path.dirname(os.path.realpath('__file__'))\n",
    "data = pd.read_csv(wdir+'/fourFactors.csv')\n",
    "\n",
    "# Comprobamos que los datos son correctos\n",
    "data.head(10)"
   ]
  },
  {
   "cell_type": "markdown",
   "metadata": {},
   "source": [
    "Ahora hace falta declarar lo que son los \"ejes\" de la función. Se sabe que los cuatro factores tienen un peso DESCONOCIDO, un coeficiente. Por este motivo, van al eje X, y con lo cual la puntuación final va al eje Y."
   ]
  },
  {
   "cell_type": "code",
   "execution_count": 3,
   "metadata": {},
   "outputs": [],
   "source": [
    "# Primero las del equipo deseado\n",
    "x = data[['efg', 'ftr', 'orb', 'tov']]\n",
    "y = data['scr']\n",
    "\n",
    "# A continuación las del equipo rival\n",
    "x_opp = data[['efg_opp', 'ftr_opp', 'orb_opp', 'tov_opp']]\n",
    "y_opp = data['scr_opp']"
   ]
  },
  {
   "cell_type": "markdown",
   "metadata": {},
   "source": [
    "### Regresión Lineal Múltiple\n",
    "\n",
    "Primero hace falta separar los datos, puesto que no se pueden usar todos. Se separan unos datos de entrenamiento y otros de prueba para la comprobación posterior."
   ]
  },
  {
   "cell_type": "code",
   "execution_count": 4,
   "metadata": {},
   "outputs": [],
   "source": [
    "# Se genera una semilla de aleatoriedad (la misma para el equipo deseado y el rival, para que se separen los mismos partidos)\n",
    "random = 7\n",
    "# Se separan los datos\n",
    "x_train, x_test, y_train, y_test = train_test_split(x, y, random_state=random)\n",
    "x_train_opp, x_test_opp, y_train_opp, y_test_opp = train_test_split(x_opp, y_opp, random_state=random)"
   ]
  },
  {
   "cell_type": "markdown",
   "metadata": {},
   "source": [
    "A continuación se inicia el algoritmo de regresión linear para obtener los coeficientes de cada factor."
   ]
  },
  {
   "cell_type": "code",
   "execution_count": 5,
   "metadata": {},
   "outputs": [],
   "source": [
    "# Inicio del algoritmo\n",
    "estimate = LinearRegression()\n",
    "estimate_opp = LinearRegression()"
   ]
  },
  {
   "cell_type": "code",
   "execution_count": 6,
   "metadata": {},
   "outputs": [
    {
     "data": {
      "text/plain": [
       "LinearRegression(copy_X=True, fit_intercept=True, n_jobs=None,\n",
       "         normalize=False)"
      ]
     },
     "execution_count": 6,
     "metadata": {},
     "output_type": "execute_result"
    }
   ],
   "source": [
    "# Entrenamiento del modelo\n",
    "estimate.fit(x_train, y_train)\n",
    "estimate_opp.fit(x_train_opp, y_train_opp)"
   ]
  },
  {
   "cell_type": "markdown",
   "metadata": {},
   "source": [
    "Se muestran los coeficientes de cada factor para saber su importancia a la hora de obtener más puntos y, por consiguiente, se pueden usar para determinar la victoria."
   ]
  },
  {
   "cell_type": "code",
   "execution_count": 7,
   "metadata": {},
   "outputs": [
    {
     "data": {
      "text/plain": [
       "array([129.33633385,   7.5309764 ,  24.56793731, -71.70886892])"
      ]
     },
     "execution_count": 7,
     "metadata": {},
     "output_type": "execute_result"
    }
   ],
   "source": [
    "estimate.coef_"
   ]
  },
  {
   "cell_type": "markdown",
   "metadata": {},
   "source": [
    "El primer valor se corresponde con el eFG%, el segundo con el TOV%, el tercero con el ORB% y el último con el FTR.\n",
    "Para comprobar estos coeficientes, se puede mostrar un gráfico de distribución de puntos y uno de columnas apiladas:"
   ]
  },
  {
   "cell_type": "code",
   "execution_count": 8,
   "metadata": {},
   "outputs": [
    {
     "data": {
      "image/png": "[encoded data removed]",
      "text/plain": [
       "<Figure size 432x288 with 1 Axes>"
      ]
     },
     "metadata": {
      "needs_background": "light"
     },
     "output_type": "display_data"
    },
    {
     "data": {
      "image/png": "[encoded data removed]",
      "text/plain": [
       "<Figure size 432x288 with 1 Axes>"
      ]
     },
     "metadata": {
      "needs_background": "light"
     },
     "output_type": "display_data"
    }
   ],
   "source": [
    "# PRIMER GRÁFICO\n",
    "# Puntos en el gráfico\n",
    "plt.plot(x['efg'], y, 'ro', label='eFG%')\n",
    "plt.plot(x['tov'], y, 'bo', label='TOV%')\n",
    "plt.plot(x['orb'], y, 'go', label='ORB%')\n",
    "plt.plot(x['ftr'], y, 'co', label='FTR')\n",
    "# Información del gráfico\n",
    "plt.xlabel('Valor del Factor')\n",
    "plt.ylabel('Puntos Anotados')\n",
    "plt.legend(loc='center left', bbox_to_anchor=(1, 0.5))\n",
    "# Mostrar el gráfico\n",
    "plt.show()\n",
    "\n",
    "# SEGUNDO GRÁFICO\n",
    "# Elementos del gráfico\n",
    "header = ['eFG%','TOV%','ORB%','FTR', 'Score']\n",
    "# Se convierten los factores de float64 a listas (y se multiplica por 50 para que sean visibles con la línea)\n",
    "efg_values = []\n",
    "for i in x['efg']: efg_values.append(i*50)\n",
    "tov_values = []\n",
    "for i in x['tov']: tov_values.append(i*50)\n",
    "orb_values = []\n",
    "for i in x['orb']: orb_values.append(i*50)\n",
    "ftr_values = []\n",
    "for i in x['ftr']: ftr_values.append(i*50)\n",
    "dataset= [efg_values, tov_values, orb_values, ftr_values]\n",
    "# Se genera el eje X\n",
    "X_AXIS = []\n",
    "for i in range(0, len(efg_values)):\n",
    "    if i%4==0 or i==0 or i==(len(efg_values)):\n",
    "        X_AXIS.append(i)\n",
    "        continue\n",
    "    X_AXIS.append('')\n",
    "# Configuraciones del gráfico\n",
    "configs = dataset[0]\n",
    "N = len(configs)\n",
    "ind = np.arange(N)\n",
    "width = 0.5\n",
    "# Se ponen los elementos en el gráfico\n",
    "p1 = plt.bar(ind, dataset[0], width, color='r')\n",
    "p2 = plt.bar(ind, dataset[1], width, bottom=dataset[0], color='b')\n",
    "p3 = plt.bar(ind, dataset[2], width, bottom=np.array(dataset[0])+np.array(dataset[1]), color='g')\n",
    "p4 = plt.bar(ind, dataset[3], width, bottom=np.array(dataset[0])+np.array(dataset[1])+np.array(dataset[2]), color='c')\n",
    "line = plt.plot(y, color='m')\n",
    "# Se muestra la información\n",
    "plt.legend((p1[0], p2[0], p3[0], p4[0], line[0]), ('eFG%','TOV%','ORB%','FTR', 'Puntos'), loc='center left', bbox_to_anchor=(1, 0.5))\n",
    "plt.xticks(ind, X_AXIS, rotation=90)\n",
    "plt.xlabel('Partido de la temporada')\n",
    "plt.ylabel('Puntos Anotados')\n",
    "# Se muestra el gráfico\n",
    "plt.show()"
   ]
  },
  {
   "cell_type": "markdown",
   "metadata": {},
   "source": [
    "_Cuantos más puntos haya en la esquina superior derecha significa que el factor tiene más valor en el juego_"
   ]
  },
  {
   "cell_type": "markdown",
   "metadata": {},
   "source": [
    "### Predicción de resultados\n",
    "Como extensión de estos coeficientes, se puede tratar de predecir las victorias del equipo. Por este motivo, se usarán los datos que se dejaron fuera del entrenamiento para comprobarlo."
   ]
  },
  {
   "cell_type": "code",
   "execution_count": 9,
   "metadata": {},
   "outputs": [],
   "source": [
    "# Primero se hace una predicción de las puntuaciones del equipo deseado\n",
    "y_pred = estimate.predict(x_test)\n",
    "# Y se sigue con el rival\n",
    "y_pred_opp = estimate.predict(x_test_opp)"
   ]
  },
  {
   "cell_type": "code",
   "execution_count": 10,
   "metadata": {},
   "outputs": [],
   "source": [
    "# Debido a los formatos de NumPy al trabajar con SciKit-Learn, el tipo de variable es int64, el cual no es iterable.\n",
    "# Hace falta convertirlo a una lista para poder trabajar con él.\n",
    "p_results = y_pred.tolist()\n",
    "p_results_opp = y_pred_opp.tolist()\n",
    "results = y_test.tolist()\n",
    "results_opp = y_test_opp.tolist()"
   ]
  },
  {
   "cell_type": "code",
   "execution_count": 11,
   "metadata": {},
   "outputs": [],
   "source": [
    "# Se inician las variables para almacenar los resultados\n",
    "p_won = []\n",
    "won = []"
   ]
  },
  {
   "cell_type": "markdown",
   "metadata": {},
   "source": [
    "Finalmente se hace un bucle para comparar los resultados predecidos con los reales, y así comprobar la eficacia del modelo. La variable `p_results` contiene los resultados predecidos del equipo deseado, `p_results_opp` es la puntuación del oponente, `results` es el resultado real del equipo deseado y `results_opp` es el resultado real del oponente."
   ]
  },
  {
   "cell_type": "code",
   "execution_count": 12,
   "metadata": {},
   "outputs": [
    {
     "name": "stdout",
     "output_type": "stream",
     "text": [
      "A-89.83771462978905 | B-75.05950754242018\n",
      "A-77 | B-68\n",
      "A-75.56489909284042 | B-79.21904271925717\n",
      "A-78 | B-81\n",
      "A-76.5712750410572 | B-83.21497350816567\n",
      "A-67 | B-80\n",
      "A-77.82077950204601 | B-87.43359385343318\n",
      "A-78 | B-85\n",
      "A-69.80691717709652 | B-80.50571240751786\n",
      "A-65 | B-77\n",
      "A-81.8914156164518 | B-68.62416027248668\n",
      "A-73 | B-65\n",
      "A-69.3949828998586 | B-80.35589953121975\n",
      "A-64 | B-82\n",
      "A-106.17078314562661 | B-78.35321413190096\n",
      "A-96 | B-77\n",
      "A-80.47851180035296 | B-81.24562407348503\n",
      "A-70 | B-69\n"
     ]
    }
   ],
   "source": [
    "counter = 0\n",
    "while counter < len(p_results):\n",
    "    p_won.append(1 if p_results[counter] > p_results_opp[counter] else 0)\n",
    "    print(\"A-\"+str(p_results[counter]) + \" | B-\"+str(p_results_opp[counter]))\n",
    "    won.append(1 if results[counter] > results_opp[counter] else 0)\n",
    "    print(\"A-\"+str(results[counter]) + \" | B-\"+str(results_opp[counter]))\n",
    "    counter += 1\n",
    "\n",
    "# La primera fila es el resultado predecido para el primer partido, y la segunda es el real, y así sucesivamente\n",
    "# La A significa el equipo deseado, y la B el rival"
   ]
  },
  {
   "cell_type": "code",
   "execution_count": 13,
   "metadata": {},
   "outputs": [
    {
     "name": "stdout",
     "output_type": "stream",
     "text": [
      "[1, 0, 0, 0, 0, 1, 0, 1, 0]\n",
      "[1, 0, 0, 0, 0, 1, 0, 1, 1]\n"
     ]
    }
   ],
   "source": [
    "# Se muestran los resultados\n",
    "print(p_won)\n",
    "print(won)"
   ]
  },
  {
   "cell_type": "markdown",
   "metadata": {},
   "source": [
    "En la fila de arriba se ecuentran los resultados predecidos y en la de abajo están los reales.\n",
    "Como bien se puede apreciar, tan solo se discrepa en un sólo resultado. Y cambiando la semilla de aleatoriedad se falla o bien uno o se aciertan todos."
   ]
  },
  {
   "cell_type": "markdown",
   "metadata": {},
   "source": [
    "## Conclusión\n",
    "Se puede decir que **el modelo funciona** y que los pesos obtenidos son relativamente correctos, puesto que se acierta en una gran cantidad de veces con las victorias y derrotas."
   ]
  }
 ],
 "metadata": {
  "kernelspec": {
   "display_name": "Python 3",
   "language": "python",
   "name": "python3"
  },
  "language_info": {
   "codemirror_mode": {
    "name": "ipython",
    "version": 3
   },
   "file_extension": ".py",
   "mimetype": "text/x-python",
   "name": "python",
   "nbconvert_exporter": "python",
   "pygments_lexer": "ipython3",
   "version": "3.5.3"
  }
 },
 "nbformat": 4,
 "nbformat_minor": 2
}
