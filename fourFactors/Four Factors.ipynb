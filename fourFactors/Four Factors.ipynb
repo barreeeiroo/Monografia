{
 "cells": [
  {
   "cell_type": "markdown",
   "metadata": {},
   "source": [
    "# Four Factors"
   ]
  },
  {
   "cell_type": "markdown",
   "metadata": {},
   "source": [
    "Para comenzar con este script, primero hay que aclarar que se van a calcular ocho factores.  \n",
    "Esto se debe al procedimiento de cálculo de victorias: primero se estima la puntuación de cada partido, y luego se compara con el del rival. Debido a esto, hace falta \"predecir\" la puntuación del rival y, con lo cual, calcular sus four factors primero."
   ]
  },
  {
   "cell_type": "code",
   "execution_count": 1,
   "metadata": {},
   "outputs": [],
   "source": [
    "# Primero se importan las librerías\n",
    "import os\n",
    "import pandas as pd\n",
    "from sklearn.model_selection import train_test_split\n",
    "from sklearn.linear_model import LinearRegression\n",
    "from sklearn.metrics import mean_squared_error, r2_score"
   ]
  },
  {
   "cell_type": "code",
   "execution_count": 2,
   "metadata": {},
   "outputs": [],
   "source": [
    "# A continuación se cargan los datos\n",
    "wdir = os.path.dirname(os.path.realpath('__file__'))\n",
    "data = pd.read_csv(wdir+'/fourFactors.csv')"
   ]
  },
  {
   "cell_type": "markdown",
   "metadata": {},
   "source": [
    "Ahora hace falta declarar lo que son los \"ejes\" de la función. Se sabe que los cuatro factores tienen un peso DESCONOCIDO, un coeficiente. Por este motivo, van al eje X, y con lo cual la puntuación final va al eje Y."
   ]
  },
  {
   "cell_type": "code",
   "execution_count": 3,
   "metadata": {},
   "outputs": [],
   "source": [
    "# Primero las del equipo deseado\n",
    "x = data[['efg', 'ftr', 'orb', 'tov']]\n",
    "y = data['scr']\n",
    "\n",
    "# A continuación las del equipo rival\n",
    "x_opp = data[['efg_opp', 'ftr_opp', 'orb_opp', 'tov_opp']]\n",
    "y_opp = data['scr_opp']"
   ]
  },
  {
   "cell_type": "markdown",
   "metadata": {},
   "source": [
    "Ahora se necesita separar los datos, puesto que no se pueden usar todos. Se separan unos datos de entrenamiento y otros de prueba para su uso posterior."
   ]
  },
  {
   "cell_type": "code",
   "execution_count": 4,
   "metadata": {},
   "outputs": [],
   "source": [
    "# Se genera una semilla de aleatoriedad (la misma para el equipo deseado y el rival, para que se separen los mismos partidos)\n",
    "random = 7\n",
    "# Se separan los datos\n",
    "x_train, x_test, y_train, y_test = train_test_split(x, y, random_state=random)\n",
    "x_train_opp, x_test_opp, y_train_opp, y_test_opp = train_test_split(x_opp, y_opp, random_state=random)"
   ]
  },
  {
   "cell_type": "markdown",
   "metadata": {},
   "source": [
    "A continuación se inicia el algoritmo de regresión linear para obtener los coeficientes de cada factor."
   ]
  },
  {
   "cell_type": "code",
   "execution_count": 5,
   "metadata": {},
   "outputs": [],
   "source": [
    "# Inicio del algoritmo\n",
    "estimate = LinearRegression()\n",
    "estimate_opp = LinearRegression()"
   ]
  },
  {
   "cell_type": "code",
   "execution_count": 6,
   "metadata": {},
   "outputs": [
    {
     "data": {
      "text/plain": [
       "LinearRegression(copy_X=True, fit_intercept=True, n_jobs=None,\n",
       "         normalize=False)"
      ]
     },
     "execution_count": 6,
     "metadata": {},
     "output_type": "execute_result"
    }
   ],
   "source": [
    "# Entrenamiento del modelo\n",
    "estimate.fit(x_train, y_train)\n",
    "estimate_opp.fit(x_train_opp, y_train_opp)"
   ]
  },
  {
   "cell_type": "markdown",
   "metadata": {},
   "source": [
    "### Obtención de los pesos\n",
    "\n",
    "Puesto que ya se ha entrenado el modelo, se obtienen los coeficientes de cada factor para saber su importancia a la hora de obtener más puntos y, por consiguiente, la victoria."
   ]
  },
  {
   "cell_type": "code",
   "execution_count": 7,
   "metadata": {},
   "outputs": [
    {
     "name": "stdout",
     "output_type": "stream",
     "text": [
      "[129.33633385   7.5309764   24.56793731 -71.70886892]\n",
      "[ 130.69376247    9.88463681   45.31953649 -105.92583942]\n"
     ]
    }
   ],
   "source": [
    "print(estimate.coef_)\n",
    "print(estimate_opp.coef_)"
   ]
  },
  {
   "cell_type": "markdown",
   "metadata": {},
   "source": [
    "El primer valor se corresponde con el eFG%, el segundo con el TOV%, el tercero con el ORB% y el último con el FTR."
   ]
  },
  {
   "cell_type": "markdown",
   "metadata": {},
   "source": [
    "### Predicción de resultados\n",
    "Como extensión de estos coeficientes, se puede tratar de predecir las victorias del equipo. Por este motivo, se usarán los datos que se dejaron fuera del entrenamiento para comprobarlo."
   ]
  },
  {
   "cell_type": "code",
   "execution_count": 8,
   "metadata": {},
   "outputs": [],
   "source": [
    "# Primero se hace una predicción de las puntuaciones del equipo deseado\n",
    "y_pred = estimate.predict(x_test)\n",
    "# Y se sigue con el rival\n",
    "y_pred_opp = estimate.predict(x_test_opp)"
   ]
  },
  {
   "cell_type": "code",
   "execution_count": 9,
   "metadata": {},
   "outputs": [],
   "source": [
    "# Debido a los formatos de NumPy al trabajar con SciKit-Learn, el tipo de variable es int64, el cual no es iterable.\n",
    "# Hace falta convertirlo a una lista para poder trabajar con él.\n",
    "p_results = y_pred.tolist()\n",
    "p_results_opp = y_pred_opp.tolist()\n",
    "results = y_test.tolist()\n",
    "results_opp = y_test_opp.tolist()"
   ]
  },
  {
   "cell_type": "code",
   "execution_count": 10,
   "metadata": {},
   "outputs": [],
   "source": [
    "# Se inician las variables para almacenar los resultados\n",
    "p_won = []\n",
    "won = []"
   ]
  },
  {
   "cell_type": "markdown",
   "metadata": {},
   "source": [
    "Finalmente se hace un bucle para comparar los resultados predecidos con los reales, y así comprobar la eficacia del modelo. La variable `p_results` contiene los resultados predecidos del equipo deseado, `p_results_opp` es la puntuación del oponente, `results` es el resultado real del equipo deseado y `results_opp` es el resultado real del oponente."
   ]
  },
  {
   "cell_type": "code",
   "execution_count": 11,
   "metadata": {},
   "outputs": [],
   "source": [
    "counter = 0\n",
    "while counter < len(p_results):\n",
    "    p_won.append(1 if p_results[counter] > p_results_opp[counter] else 0)\n",
    "    won.append(1 if results[counter] > results_opp[counter] else 0)\n",
    "    counter += 1"
   ]
  },
  {
   "cell_type": "code",
   "execution_count": 12,
   "metadata": {},
   "outputs": [
    {
     "name": "stdout",
     "output_type": "stream",
     "text": [
      "[1, 0, 0, 0, 0, 1, 0, 1, 0]\n",
      "[1, 0, 0, 0, 0, 1, 0, 1, 1]\n"
     ]
    }
   ],
   "source": [
    "# Se muestran los resultados\n",
    "print(p_won)\n",
    "print(won)"
   ]
  },
  {
   "cell_type": "markdown",
   "metadata": {},
   "source": [
    "En la fila de arriba se ecuentran los resultados predecidos y en la de abajo están los reales. Tan solo falla un único partido, con lo cual se podría decir que el modelo funciona y es bastante fiable."
   ]
  }
 ],
 "metadata": {
  "kernelspec": {
   "display_name": "Python 3",
   "language": "python",
   "name": "python3"
  },
  "language_info": {
   "codemirror_mode": {
    "name": "ipython",
    "version": 3
   },
   "file_extension": ".py",
   "mimetype": "text/x-python",
   "name": "python",
   "nbconvert_exporter": "python",
   "pygments_lexer": "ipython3",
   "version": "3.5.3"
  }
 },
 "nbformat": 4,
 "nbformat_minor": 2
}
