{
 "cells": [
  {
   "cell_type": "markdown",
   "metadata": {},
   "source": [
    "# Four Factors"
   ]
  },
  {
   "cell_type": "markdown",
   "metadata": {},
   "source": [
    "Para comenzar con este script, primero hay que aclarar que se van a calcular ocho factores.  \n",
    "Esto se debe al procedimiento de cálculo de victorias: primero se estima la puntuación de cada partido, y luego se compara con el del rival. Debido a esto, hace falta \"predecir\" la puntuación del rival y, con lo cual, calcular sus four factors primero."
   ]
  },
  {
   "cell_type": "code",
   "execution_count": 1,
   "metadata": {},
   "outputs": [],
   "source": [
    "# Primero se importan las librerías\n",
    "import os\n",
    "import pandas as pd\n",
    "from sklearn.model_selection import train_test_split\n",
    "from sklearn.linear_model import LinearRegression\n",
    "from sklearn.metrics import mean_squared_error, r2_score\n",
    "from matplotlib import pyplot as plt"
   ]
  },
  {
   "cell_type": "code",
   "execution_count": 2,
   "metadata": {
    "scrolled": true
   },
   "outputs": [
    {
     "name": "stdout",
     "output_type": "stream",
     "text": [
      "        efg   efg_opp       ftr   ftr_opp       orb   orb_opp  scr  scr_opp       tov   tov_opp  won\n",
      "0  0.525000  0.500000  0.739130  0.923077  0.228571  0.200000   80       74  0.146128  0.171317    1\n",
      "1  0.516949  0.515873  0.600000  0.789474  0.218750  0.333333   67       80  0.136240  0.100806    0\n",
      "2  0.575472  0.490909  0.761905  0.777778  0.407407  0.242424   77       68  0.138427  0.137137    1\n",
      "3  0.373016  0.689394  0.785714  0.733333  0.350000  0.266667   58      102  0.206517  0.110294    0\n",
      "4  0.675000  0.410448  0.812500  0.700000  0.320000  0.340426   94       69  0.129803  0.126728    1\n"
     ]
    }
   ],
   "source": [
    "# A continuación se cargan los datos\n",
    "wdir = os.path.dirname(os.path.realpath('__file__'))\n",
    "data = pd.read_csv(wdir+'/fourFactors.csv')\n",
    "\n",
    "# Comprobamos que los datos son correctos\n",
    "pd.set_option('display.expand_frame_repr', False)\n",
    "print(data.head())"
   ]
  },
  {
   "cell_type": "markdown",
   "metadata": {},
   "source": [
    "Ahora hace falta declarar lo que son los \"ejes\" de la función. Se sabe que los cuatro factores tienen un peso DESCONOCIDO, un coeficiente. Por este motivo, van al eje X, y con lo cual la puntuación final va al eje Y."
   ]
  },
  {
   "cell_type": "code",
   "execution_count": 3,
   "metadata": {},
   "outputs": [],
   "source": [
    "# Primero las del equipo deseado\n",
    "x = data[['efg', 'ftr', 'orb', 'tov']]\n",
    "y = data['scr']\n",
    "\n",
    "# A continuación las del equipo rival\n",
    "x_opp = data[['efg_opp', 'ftr_opp', 'orb_opp', 'tov_opp']]\n",
    "y_opp = data['scr_opp']"
   ]
  },
  {
   "cell_type": "markdown",
   "metadata": {},
   "source": [
    "Ahora se necesita separar los datos, puesto que no se pueden usar todos. Se separan unos datos de entrenamiento y otros de prueba para su uso posterior."
   ]
  },
  {
   "cell_type": "code",
   "execution_count": 4,
   "metadata": {},
   "outputs": [],
   "source": [
    "# Se genera una semilla de aleatoriedad (la misma para el equipo deseado y el rival, para que se separen los mismos partidos)\n",
    "random = 7\n",
    "# Se separan los datos\n",
    "x_train, x_test, y_train, y_test = train_test_split(x, y, random_state=random)\n",
    "x_train_opp, x_test_opp, y_train_opp, y_test_opp = train_test_split(x_opp, y_opp, random_state=random)"
   ]
  },
  {
   "cell_type": "markdown",
   "metadata": {},
   "source": [
    "A continuación se inicia el algoritmo de regresión linear para obtener los coeficientes de cada factor."
   ]
  },
  {
   "cell_type": "code",
   "execution_count": 5,
   "metadata": {},
   "outputs": [],
   "source": [
    "# Inicio del algoritmo\n",
    "estimate = LinearRegression()\n",
    "estimate_opp = LinearRegression()"
   ]
  },
  {
   "cell_type": "code",
   "execution_count": 6,
   "metadata": {},
   "outputs": [
    {
     "data": {
      "text/plain": [
       "LinearRegression(copy_X=True, fit_intercept=True, n_jobs=None,\n",
       "         normalize=False)"
      ]
     },
     "execution_count": 6,
     "metadata": {},
     "output_type": "execute_result"
    }
   ],
   "source": [
    "# Entrenamiento del modelo\n",
    "estimate.fit(x_train, y_train)\n",
    "estimate_opp.fit(x_train_opp, y_train_opp)"
   ]
  },
  {
   "cell_type": "markdown",
   "metadata": {},
   "source": [
    "### Obtención de los pesos\n",
    "\n",
    "Puesto que ya se ha entrenado el modelo, se obtienen los coeficientes de cada factor para saber su importancia a la hora de obtener más puntos y, por consiguiente, la victoria."
   ]
  },
  {
   "cell_type": "code",
   "execution_count": 7,
   "metadata": {},
   "outputs": [
    {
     "name": "stdout",
     "output_type": "stream",
     "text": [
      "[129.33633385   7.5309764   24.56793731 -71.70886892]\n",
      "[ 130.69376247    9.88463681   45.31953649 -105.92583942]\n"
     ]
    }
   ],
   "source": [
    "print(estimate.coef_)\n",
    "print(estimate_opp.coef_)"
   ]
  },
  {
   "cell_type": "markdown",
   "metadata": {},
   "source": [
    "El primer valor se corresponde con el eFG%, el segundo con el TOV%, el tercero con el ORB% y el último con el FTR.\n",
    "Para comprobar estos coeficientes, se puede mostrar un gráfico de distribución:"
   ]
  },
  {
   "cell_type": "code",
   "execution_count": 8,
   "metadata": {},
   "outputs": [
    {
     "data": {
      "image/png": "[encoded data removed]",
      "text/plain": [
       "<Figure size 432x288 with 1 Axes>"
      ]
     },
     "metadata": {
      "needs_background": "light"
     },
     "output_type": "display_data"
    }
   ],
   "source": [
    "plt.plot(x['efg'], y, 'ro', label='eFG%')\n",
    "plt.plot(x['tov'], y, 'bo', label='TOV%')\n",
    "plt.plot(x['orb'], y, 'go', label='ORB%')\n",
    "plt.plot(x['ftr'], y, 'co', label='FTR')\n",
    "plt.xlabel('Valor del Factor')\n",
    "plt.ylabel('Puntos Anotados')\n",
    "plt.legend(loc='upper left')\n",
    "plt.show()"
   ]
  },
  {
   "cell_type": "markdown",
   "metadata": {},
   "source": [
    "### Predicción de resultados\n",
    "Como extensión de estos coeficientes, se puede tratar de predecir las victorias del equipo. Por este motivo, se usarán los datos que se dejaron fuera del entrenamiento para comprobarlo."
   ]
  },
  {
   "cell_type": "code",
   "execution_count": 9,
   "metadata": {},
   "outputs": [],
   "source": [
    "# Primero se hace una predicción de las puntuaciones del equipo deseado\n",
    "y_pred = estimate.predict(x_test)\n",
    "# Y se sigue con el rival\n",
    "y_pred_opp = estimate.predict(x_test_opp)"
   ]
  },
  {
   "cell_type": "code",
   "execution_count": 10,
   "metadata": {},
   "outputs": [],
   "source": [
    "# Debido a los formatos de NumPy al trabajar con SciKit-Learn, el tipo de variable es int64, el cual no es iterable.\n",
    "# Hace falta convertirlo a una lista para poder trabajar con él.\n",
    "p_results = y_pred.tolist()\n",
    "p_results_opp = y_pred_opp.tolist()\n",
    "results = y_test.tolist()\n",
    "results_opp = y_test_opp.tolist()"
   ]
  },
  {
   "cell_type": "code",
   "execution_count": 11,
   "metadata": {},
   "outputs": [],
   "source": [
    "# Se inician las variables para almacenar los resultados\n",
    "p_won = []\n",
    "won = []"
   ]
  },
  {
   "cell_type": "markdown",
   "metadata": {},
   "source": [
    "Finalmente se hace un bucle para comparar los resultados predecidos con los reales, y así comprobar la eficacia del modelo. La variable `p_results` contiene los resultados predecidos del equipo deseado, `p_results_opp` es la puntuación del oponente, `results` es el resultado real del equipo deseado y `results_opp` es el resultado real del oponente."
   ]
  },
  {
   "cell_type": "code",
   "execution_count": 12,
   "metadata": {},
   "outputs": [
    {
     "name": "stdout",
     "output_type": "stream",
     "text": [
      "A-89.83771462978905 | B-75.05950754242018\n",
      "A-77 | B-68\n",
      "A-75.56489909284042 | B-79.21904271925717\n",
      "A-78 | B-81\n",
      "A-76.5712750410572 | B-83.21497350816567\n",
      "A-67 | B-80\n",
      "A-77.82077950204601 | B-87.43359385343318\n",
      "A-78 | B-85\n",
      "A-69.80691717709652 | B-80.50571240751786\n",
      "A-65 | B-77\n",
      "A-81.8914156164518 | B-68.62416027248668\n",
      "A-73 | B-65\n",
      "A-69.3949828998586 | B-80.35589953121975\n",
      "A-64 | B-82\n",
      "A-106.17078314562661 | B-78.35321413190096\n",
      "A-96 | B-77\n",
      "A-80.47851180035296 | B-81.24562407348503\n",
      "A-70 | B-69\n"
     ]
    }
   ],
   "source": [
    "counter = 0\n",
    "while counter < len(p_results):\n",
    "    p_won.append(1 if p_results[counter] > p_results_opp[counter] else 0)\n",
    "    print(\"A-\"+str(p_results[counter]) + \" | B-\"+str(p_results_opp[counter]))\n",
    "    won.append(1 if results[counter] > results_opp[counter] else 0)\n",
    "    print(\"A-\"+str(results[counter]) + \" | B-\"+str(results_opp[counter]))\n",
    "    counter += 1\n",
    "\n",
    "# La primera fila es el resultado predecido para el primer partido, y la segunda es el real, y así sucesivamente\n",
    "# La A significa el equipo deseado, y la B el rival"
   ]
  },
  {
   "cell_type": "code",
   "execution_count": 13,
   "metadata": {},
   "outputs": [
    {
     "name": "stdout",
     "output_type": "stream",
     "text": [
      "[1, 0, 0, 0, 0, 1, 0, 1, 0]\n",
      "[1, 0, 0, 0, 0, 1, 0, 1, 1]\n"
     ]
    }
   ],
   "source": [
    "# Se muestran los resultados\n",
    "print(p_won)\n",
    "print(won)"
   ]
  },
  {
   "cell_type": "markdown",
   "metadata": {},
   "source": [
    "En la fila de arriba se ecuentran los resultados predecidos y en la de abajo están los reales."
   ]
  },
  {
   "cell_type": "markdown",
   "metadata": {},
   "source": [
    "## Conclusión\n",
    "Se puede decir que **el modelo funciona** y que los pesos obtenidos son relativamente correctos, puesto que tan solo falla un sólo partido."
   ]
  }
 ],
 "metadata": {
  "kernelspec": {
   "display_name": "Python 3",
   "language": "python",
   "name": "python3"
  },
  "language_info": {
   "codemirror_mode": {
    "name": "ipython",
    "version": 3
   },
   "file_extension": ".py",
   "mimetype": "text/x-python",
   "name": "python",
   "nbconvert_exporter": "python",
   "pygments_lexer": "ipython3",
   "version": "3.5.3"
  }
 },
 "nbformat": 4,
 "nbformat_minor": 2
}
