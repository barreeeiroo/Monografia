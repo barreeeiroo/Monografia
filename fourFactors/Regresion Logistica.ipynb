{
 "cells": [
  {
   "cell_type": "markdown",
   "metadata": {},
   "source": [
    "# Regresión Logística"
   ]
  },
  {
   "cell_type": "markdown",
   "metadata": {},
   "source": [
    "La diferencia con respecto a la regresión lineal múltiple es que aquí se trata de obtener o bien una victoria o bien una derrota, y no unos coeficientes."
   ]
  },
  {
   "cell_type": "code",
   "execution_count": 10,
   "metadata": {},
   "outputs": [],
   "source": [
    "# Primero se importan las librerías\n",
    "import os\n",
    "import pandas as pd\n",
    "from sklearn.model_selection import train_test_split\n",
    "from sklearn.linear_model import LogisticRegression\n",
    "from sklearn import metrics"
   ]
  },
  {
   "cell_type": "code",
   "execution_count": 3,
   "metadata": {},
   "outputs": [
    {
     "data": {
      "text/html": [
       "<div>\n",
       "<style scoped>\n",
       "    .dataframe tbody tr th:only-of-type {\n",
       "        vertical-align: middle;\n",
       "    }\n",
       "\n",
       "    .dataframe tbody tr th {\n",
       "        vertical-align: top;\n",
       "    }\n",
       "\n",
       "    .dataframe thead th {\n",
       "        text-align: right;\n",
       "    }\n",
       "</style>\n",
       "<table border=\"1\" class=\"dataframe\">\n",
       "  <thead>\n",
       "    <tr style=\"text-align: right;\">\n",
       "      <th></th>\n",
       "      <th>efg</th>\n",
       "      <th>efg_opp</th>\n",
       "      <th>ftr</th>\n",
       "      <th>ftr_opp</th>\n",
       "      <th>orb</th>\n",
       "      <th>orb_opp</th>\n",
       "      <th>scr</th>\n",
       "      <th>scr_opp</th>\n",
       "      <th>tov</th>\n",
       "      <th>tov_opp</th>\n",
       "      <th>won</th>\n",
       "    </tr>\n",
       "  </thead>\n",
       "  <tbody>\n",
       "    <tr>\n",
       "      <th>0</th>\n",
       "      <td>0.525000</td>\n",
       "      <td>0.500000</td>\n",
       "      <td>0.739130</td>\n",
       "      <td>0.923077</td>\n",
       "      <td>0.228571</td>\n",
       "      <td>0.200000</td>\n",
       "      <td>80</td>\n",
       "      <td>74</td>\n",
       "      <td>0.146128</td>\n",
       "      <td>0.171317</td>\n",
       "      <td>1</td>\n",
       "    </tr>\n",
       "    <tr>\n",
       "      <th>1</th>\n",
       "      <td>0.516949</td>\n",
       "      <td>0.515873</td>\n",
       "      <td>0.600000</td>\n",
       "      <td>0.789474</td>\n",
       "      <td>0.218750</td>\n",
       "      <td>0.333333</td>\n",
       "      <td>67</td>\n",
       "      <td>80</td>\n",
       "      <td>0.136240</td>\n",
       "      <td>0.100806</td>\n",
       "      <td>0</td>\n",
       "    </tr>\n",
       "    <tr>\n",
       "      <th>2</th>\n",
       "      <td>0.575472</td>\n",
       "      <td>0.490909</td>\n",
       "      <td>0.761905</td>\n",
       "      <td>0.777778</td>\n",
       "      <td>0.407407</td>\n",
       "      <td>0.242424</td>\n",
       "      <td>77</td>\n",
       "      <td>68</td>\n",
       "      <td>0.138427</td>\n",
       "      <td>0.137137</td>\n",
       "      <td>1</td>\n",
       "    </tr>\n",
       "    <tr>\n",
       "      <th>3</th>\n",
       "      <td>0.373016</td>\n",
       "      <td>0.689394</td>\n",
       "      <td>0.785714</td>\n",
       "      <td>0.733333</td>\n",
       "      <td>0.350000</td>\n",
       "      <td>0.266667</td>\n",
       "      <td>58</td>\n",
       "      <td>102</td>\n",
       "      <td>0.206517</td>\n",
       "      <td>0.110294</td>\n",
       "      <td>0</td>\n",
       "    </tr>\n",
       "    <tr>\n",
       "      <th>4</th>\n",
       "      <td>0.675000</td>\n",
       "      <td>0.410448</td>\n",
       "      <td>0.812500</td>\n",
       "      <td>0.700000</td>\n",
       "      <td>0.320000</td>\n",
       "      <td>0.340426</td>\n",
       "      <td>94</td>\n",
       "      <td>69</td>\n",
       "      <td>0.129803</td>\n",
       "      <td>0.126728</td>\n",
       "      <td>1</td>\n",
       "    </tr>\n",
       "    <tr>\n",
       "      <th>5</th>\n",
       "      <td>0.530303</td>\n",
       "      <td>0.470588</td>\n",
       "      <td>1.000000</td>\n",
       "      <td>0.850000</td>\n",
       "      <td>0.222222</td>\n",
       "      <td>0.218750</td>\n",
       "      <td>73</td>\n",
       "      <td>65</td>\n",
       "      <td>0.129333</td>\n",
       "      <td>0.189702</td>\n",
       "      <td>1</td>\n",
       "    </tr>\n",
       "    <tr>\n",
       "      <th>6</th>\n",
       "      <td>0.401786</td>\n",
       "      <td>0.314286</td>\n",
       "      <td>0.708333</td>\n",
       "      <td>0.888889</td>\n",
       "      <td>0.225806</td>\n",
       "      <td>0.326531</td>\n",
       "      <td>62</td>\n",
       "      <td>60</td>\n",
       "      <td>0.203447</td>\n",
       "      <td>0.133452</td>\n",
       "      <td>1</td>\n",
       "    </tr>\n",
       "    <tr>\n",
       "      <th>7</th>\n",
       "      <td>0.453333</td>\n",
       "      <td>0.472727</td>\n",
       "      <td>0.846154</td>\n",
       "      <td>0.590909</td>\n",
       "      <td>0.333333</td>\n",
       "      <td>0.281250</td>\n",
       "      <td>79</td>\n",
       "      <td>65</td>\n",
       "      <td>0.100312</td>\n",
       "      <td>0.236183</td>\n",
       "      <td>1</td>\n",
       "    </tr>\n",
       "    <tr>\n",
       "      <th>8</th>\n",
       "      <td>0.507937</td>\n",
       "      <td>0.452830</td>\n",
       "      <td>0.785714</td>\n",
       "      <td>0.800000</td>\n",
       "      <td>0.314286</td>\n",
       "      <td>0.187500</td>\n",
       "      <td>75</td>\n",
       "      <td>64</td>\n",
       "      <td>0.103681</td>\n",
       "      <td>0.114613</td>\n",
       "      <td>1</td>\n",
       "    </tr>\n",
       "    <tr>\n",
       "      <th>9</th>\n",
       "      <td>0.492424</td>\n",
       "      <td>0.552632</td>\n",
       "      <td>0.866667</td>\n",
       "      <td>0.916667</td>\n",
       "      <td>0.333333</td>\n",
       "      <td>0.321429</td>\n",
       "      <td>78</td>\n",
       "      <td>85</td>\n",
       "      <td>0.141844</td>\n",
       "      <td>0.117555</td>\n",
       "      <td>0</td>\n",
       "    </tr>\n",
       "  </tbody>\n",
       "</table>\n",
       "</div>"
      ],
      "text/plain": [
       "        efg   efg_opp       ftr   ftr_opp       orb   orb_opp  scr  scr_opp       tov   tov_opp  won\n",
       "0  0.525000  0.500000  0.739130  0.923077  0.228571  0.200000   80       74  0.146128  0.171317    1\n",
       "1  0.516949  0.515873  0.600000  0.789474  0.218750  0.333333   67       80  0.136240  0.100806    0\n",
       "2  0.575472  0.490909  0.761905  0.777778  0.407407  0.242424   77       68  0.138427  0.137137    1\n",
       "3  0.373016  0.689394  0.785714  0.733333  0.350000  0.266667   58      102  0.206517  0.110294    0\n",
       "4  0.675000  0.410448  0.812500  0.700000  0.320000  0.340426   94       69  0.129803  0.126728    1\n",
       "5  0.530303  0.470588  1.000000  0.850000  0.222222  0.218750   73       65  0.129333  0.189702    1\n",
       "6  0.401786  0.314286  0.708333  0.888889  0.225806  0.326531   62       60  0.203447  0.133452    1\n",
       "7  0.453333  0.472727  0.846154  0.590909  0.333333  0.281250   79       65  0.100312  0.236183    1\n",
       "8  0.507937  0.452830  0.785714  0.800000  0.314286  0.187500   75       64  0.103681  0.114613    1\n",
       "9  0.492424  0.552632  0.866667  0.916667  0.333333  0.321429   78       85  0.141844  0.117555    0"
      ]
     },
     "execution_count": 3,
     "metadata": {},
     "output_type": "execute_result"
    }
   ],
   "source": [
    "# A continuación se cargan los datos\n",
    "wdir = os.path.dirname(os.path.realpath('__file__'))\n",
    "data = pd.read_csv(wdir+'/fourFactors.csv')\n",
    "\n",
    "# Comprobamos que los datos son correctos\n",
    "pd.set_option('display.expand_frame_repr', False)\n",
    "data.head(10)"
   ]
  },
  {
   "cell_type": "markdown",
   "metadata": {},
   "source": [
    "Hay 9 columnas, las 4 primeras hacen referencia al Obradoiro y las 4 siguientes al oponente, de forma alternada.  \n",
    "Por último la columna `Win` es 1 si ganó el Obradoiro y 0 si perdió."
   ]
  },
  {
   "cell_type": "markdown",
   "metadata": {},
   "source": [
    "Tenemos 34 filas y 11 columnas"
   ]
  },
  {
   "cell_type": "code",
   "execution_count": 4,
   "metadata": {},
   "outputs": [
    {
     "data": {
      "text/html": [
       "<div>\n",
       "<style scoped>\n",
       "    .dataframe tbody tr th:only-of-type {\n",
       "        vertical-align: middle;\n",
       "    }\n",
       "\n",
       "    .dataframe tbody tr th {\n",
       "        vertical-align: top;\n",
       "    }\n",
       "\n",
       "    .dataframe thead th {\n",
       "        text-align: right;\n",
       "    }\n",
       "</style>\n",
       "<table border=\"1\" class=\"dataframe\">\n",
       "  <thead>\n",
       "    <tr style=\"text-align: right;\">\n",
       "      <th></th>\n",
       "      <th>efg</th>\n",
       "      <th>efg_opp</th>\n",
       "      <th>ftr</th>\n",
       "      <th>ftr_opp</th>\n",
       "      <th>orb</th>\n",
       "      <th>orb_opp</th>\n",
       "      <th>scr</th>\n",
       "      <th>scr_opp</th>\n",
       "      <th>tov</th>\n",
       "      <th>tov_opp</th>\n",
       "      <th>won</th>\n",
       "    </tr>\n",
       "  </thead>\n",
       "  <tbody>\n",
       "    <tr>\n",
       "      <th>count</th>\n",
       "      <td>34.000000</td>\n",
       "      <td>34.000000</td>\n",
       "      <td>34.000000</td>\n",
       "      <td>34.000000</td>\n",
       "      <td>34.000000</td>\n",
       "      <td>34.000000</td>\n",
       "      <td>34.000000</td>\n",
       "      <td>34.000000</td>\n",
       "      <td>34.000000</td>\n",
       "      <td>34.000000</td>\n",
       "      <td>34.000000</td>\n",
       "    </tr>\n",
       "    <tr>\n",
       "      <th>mean</th>\n",
       "      <td>0.523693</td>\n",
       "      <td>0.524913</td>\n",
       "      <td>0.754046</td>\n",
       "      <td>0.792098</td>\n",
       "      <td>0.293585</td>\n",
       "      <td>0.291643</td>\n",
       "      <td>77.941176</td>\n",
       "      <td>80.647059</td>\n",
       "      <td>0.146697</td>\n",
       "      <td>0.138363</td>\n",
       "      <td>0.411765</td>\n",
       "    </tr>\n",
       "    <tr>\n",
       "      <th>std</th>\n",
       "      <td>0.086719</td>\n",
       "      <td>0.083036</td>\n",
       "      <td>0.103986</td>\n",
       "      <td>0.105577</td>\n",
       "      <td>0.071591</td>\n",
       "      <td>0.076257</td>\n",
       "      <td>12.494705</td>\n",
       "      <td>13.984585</td>\n",
       "      <td>0.042138</td>\n",
       "      <td>0.043342</td>\n",
       "      <td>0.499554</td>\n",
       "    </tr>\n",
       "    <tr>\n",
       "      <th>min</th>\n",
       "      <td>0.373016</td>\n",
       "      <td>0.314286</td>\n",
       "      <td>0.545455</td>\n",
       "      <td>0.500000</td>\n",
       "      <td>0.111111</td>\n",
       "      <td>0.111111</td>\n",
       "      <td>58.000000</td>\n",
       "      <td>60.000000</td>\n",
       "      <td>0.062625</td>\n",
       "      <td>0.053476</td>\n",
       "      <td>0.000000</td>\n",
       "    </tr>\n",
       "    <tr>\n",
       "      <th>25%</th>\n",
       "      <td>0.464773</td>\n",
       "      <td>0.491133</td>\n",
       "      <td>0.670000</td>\n",
       "      <td>0.731410</td>\n",
       "      <td>0.257373</td>\n",
       "      <td>0.244318</td>\n",
       "      <td>69.000000</td>\n",
       "      <td>69.250000</td>\n",
       "      <td>0.119671</td>\n",
       "      <td>0.106855</td>\n",
       "      <td>0.000000</td>\n",
       "    </tr>\n",
       "    <tr>\n",
       "      <th>50%</th>\n",
       "      <td>0.512443</td>\n",
       "      <td>0.516557</td>\n",
       "      <td>0.755952</td>\n",
       "      <td>0.800000</td>\n",
       "      <td>0.286041</td>\n",
       "      <td>0.289916</td>\n",
       "      <td>77.000000</td>\n",
       "      <td>77.500000</td>\n",
       "      <td>0.137334</td>\n",
       "      <td>0.134795</td>\n",
       "      <td>0.000000</td>\n",
       "    </tr>\n",
       "    <tr>\n",
       "      <th>75%</th>\n",
       "      <td>0.582031</td>\n",
       "      <td>0.569994</td>\n",
       "      <td>0.816761</td>\n",
       "      <td>0.885417</td>\n",
       "      <td>0.333333</td>\n",
       "      <td>0.333333</td>\n",
       "      <td>86.250000</td>\n",
       "      <td>91.250000</td>\n",
       "      <td>0.180298</td>\n",
       "      <td>0.168625</td>\n",
       "      <td>1.000000</td>\n",
       "    </tr>\n",
       "    <tr>\n",
       "      <th>max</th>\n",
       "      <td>0.759615</td>\n",
       "      <td>0.701613</td>\n",
       "      <td>1.000000</td>\n",
       "      <td>0.944444</td>\n",
       "      <td>0.475000</td>\n",
       "      <td>0.487179</td>\n",
       "      <td>112.000000</td>\n",
       "      <td>116.000000</td>\n",
       "      <td>0.269507</td>\n",
       "      <td>0.236183</td>\n",
       "      <td>1.000000</td>\n",
       "    </tr>\n",
       "  </tbody>\n",
       "</table>\n",
       "</div>"
      ],
      "text/plain": [
       "             efg    efg_opp        ftr    ftr_opp        orb    orb_opp         scr     scr_opp        tov    tov_opp        won\n",
       "count  34.000000  34.000000  34.000000  34.000000  34.000000  34.000000   34.000000   34.000000  34.000000  34.000000  34.000000\n",
       "mean    0.523693   0.524913   0.754046   0.792098   0.293585   0.291643   77.941176   80.647059   0.146697   0.138363   0.411765\n",
       "std     0.086719   0.083036   0.103986   0.105577   0.071591   0.076257   12.494705   13.984585   0.042138   0.043342   0.499554\n",
       "min     0.373016   0.314286   0.545455   0.500000   0.111111   0.111111   58.000000   60.000000   0.062625   0.053476   0.000000\n",
       "25%     0.464773   0.491133   0.670000   0.731410   0.257373   0.244318   69.000000   69.250000   0.119671   0.106855   0.000000\n",
       "50%     0.512443   0.516557   0.755952   0.800000   0.286041   0.289916   77.000000   77.500000   0.137334   0.134795   0.000000\n",
       "75%     0.582031   0.569994   0.816761   0.885417   0.333333   0.333333   86.250000   91.250000   0.180298   0.168625   1.000000\n",
       "max     0.759615   0.701613   1.000000   0.944444   0.475000   0.487179  112.000000  116.000000   0.269507   0.236183   1.000000"
      ]
     },
     "execution_count": 4,
     "metadata": {},
     "output_type": "execute_result"
    }
   ],
   "source": [
    "# Se genera una visión general de los datos\n",
    "data.describe()"
   ]
  },
  {
   "cell_type": "markdown",
   "metadata": {},
   "source": [
    "Nos devuelve el valor medio, desviación, mínimo, máximo y los percentiles 25%, 50% y 75%.\n",
    "Pero esto no diferencia entre victorias y derrotas, por lo que es necesario agrupar por esa columna."
   ]
  },
  {
   "cell_type": "code",
   "execution_count": 5,
   "metadata": {},
   "outputs": [
    {
     "data": {
      "text/html": [
       "<div>\n",
       "<style scoped>\n",
       "    .dataframe tbody tr th:only-of-type {\n",
       "        vertical-align: middle;\n",
       "    }\n",
       "\n",
       "    .dataframe tbody tr th {\n",
       "        vertical-align: top;\n",
       "    }\n",
       "\n",
       "    .dataframe thead th {\n",
       "        text-align: right;\n",
       "    }\n",
       "</style>\n",
       "<table border=\"1\" class=\"dataframe\">\n",
       "  <thead>\n",
       "    <tr style=\"text-align: right;\">\n",
       "      <th></th>\n",
       "      <th>efg</th>\n",
       "      <th>efg_opp</th>\n",
       "      <th>ftr</th>\n",
       "      <th>ftr_opp</th>\n",
       "      <th>orb</th>\n",
       "      <th>orb_opp</th>\n",
       "      <th>scr</th>\n",
       "      <th>scr_opp</th>\n",
       "      <th>tov</th>\n",
       "      <th>tov_opp</th>\n",
       "    </tr>\n",
       "    <tr>\n",
       "      <th>won</th>\n",
       "      <th></th>\n",
       "      <th></th>\n",
       "      <th></th>\n",
       "      <th></th>\n",
       "      <th></th>\n",
       "      <th></th>\n",
       "      <th></th>\n",
       "      <th></th>\n",
       "      <th></th>\n",
       "      <th></th>\n",
       "    </tr>\n",
       "  </thead>\n",
       "  <tbody>\n",
       "    <tr>\n",
       "      <th>0</th>\n",
       "      <td>0.508639</td>\n",
       "      <td>0.563719</td>\n",
       "      <td>0.736848</td>\n",
       "      <td>0.826916</td>\n",
       "      <td>0.298262</td>\n",
       "      <td>0.300173</td>\n",
       "      <td>77.100000</td>\n",
       "      <td>88.200000</td>\n",
       "      <td>0.147922</td>\n",
       "      <td>0.124894</td>\n",
       "    </tr>\n",
       "    <tr>\n",
       "      <th>1</th>\n",
       "      <td>0.545198</td>\n",
       "      <td>0.469476</td>\n",
       "      <td>0.778616</td>\n",
       "      <td>0.742360</td>\n",
       "      <td>0.286903</td>\n",
       "      <td>0.279458</td>\n",
       "      <td>79.142857</td>\n",
       "      <td>69.857143</td>\n",
       "      <td>0.144946</td>\n",
       "      <td>0.157604</td>\n",
       "    </tr>\n",
       "  </tbody>\n",
       "</table>\n",
       "</div>"
      ],
      "text/plain": [
       "          efg   efg_opp       ftr   ftr_opp       orb   orb_opp        scr    scr_opp       tov   tov_opp\n",
       "won                                                                                                      \n",
       "0    0.508639  0.563719  0.736848  0.826916  0.298262  0.300173  77.100000  88.200000  0.147922  0.124894\n",
       "1    0.545198  0.469476  0.778616  0.742360  0.286903  0.279458  79.142857  69.857143  0.144946  0.157604"
      ]
     },
     "execution_count": 5,
     "metadata": {},
     "output_type": "execute_result"
    }
   ],
   "source": [
    "# Medias en las victorias y derrotas\n",
    "data.groupby(['won']).mean()"
   ]
  },
  {
   "cell_type": "markdown",
   "metadata": {},
   "source": [
    "Podemos ver claramente como para las victorias hay que tener casi 0.55 en eFG% y que pesa más el factor de tiro libre que los balones perdidos y el rebote."
   ]
  },
  {
   "cell_type": "markdown",
   "metadata": {},
   "source": [
    "### Entrenamiento del modelo"
   ]
  },
  {
   "cell_type": "markdown",
   "metadata": {},
   "source": [
    "Hace falta hacer una separación de los datos en datos de entrenamiento y datos de prueba."
   ]
  },
  {
   "cell_type": "code",
   "execution_count": 7,
   "metadata": {},
   "outputs": [],
   "source": [
    "# Se cargan los datos de entrada (X) y la posible salida (Y)\n",
    "X = data[['efg','efg_opp','ftr','ftr_opp','orb','orb_opp','tov','tov_opp']]\n",
    "Y = data['won']\n",
    "# Se separan los datos de entrenamiento y los de prueba\n",
    "x_train, x_test, y_train, y_test = train_test_split(X, Y, test_size=0.3, random_state=4)"
   ]
  },
  {
   "cell_type": "markdown",
   "metadata": {},
   "source": [
    "Ahora se entrena el modelo"
   ]
  },
  {
   "cell_type": "code",
   "execution_count": 9,
   "metadata": {},
   "outputs": [],
   "source": [
    "# Se crea el modelo con SciKit-Learn y se entrena (en el mismo paso)\n",
    "clf = LogisticRegression(random_state=0, solver='lbfgs', multi_class='multinomial').fit(x_train, y_train)"
   ]
  },
  {
   "cell_type": "markdown",
   "metadata": {},
   "source": [
    "Se muestran los coeficientes de nuestro modelo"
   ]
  },
  {
   "cell_type": "code",
   "execution_count": 12,
   "metadata": {},
   "outputs": [
    {
     "data": {
      "text/plain": [
       "array([[ 0.08792366, -0.57117837,  0.11265059, -0.23421202, -0.19882258,\n",
       "        -0.07891725, -0.04218186,  0.20709843]])"
      ]
     },
     "execution_count": 12,
     "metadata": {},
     "output_type": "execute_result"
    }
   ],
   "source": [
    "clf.coef_"
   ]
  },
  {
   "cell_type": "markdown",
   "metadata": {},
   "source": [
    "### Cáculo del error"
   ]
  },
  {
   "cell_type": "markdown",
   "metadata": {},
   "source": [
    "Para calcular el error cometido usaremos los datos guardados para test. Primero descargamos la librería metrics:"
   ]
  },
  {
   "cell_type": "code",
   "execution_count": 11,
   "metadata": {},
   "outputs": [],
   "source": [
    "# Se calculan las predicciones de resultados\n",
    "y_pred = clf.predict(x_test)"
   ]
  },
  {
   "cell_type": "markdown",
   "metadata": {},
   "source": [
    "Probabilidad de acertar:"
   ]
  },
  {
   "cell_type": "code",
   "execution_count": 12,
   "metadata": {},
   "outputs": [
    {
     "data": {
      "text/plain": [
       "0.5454545454545454"
      ]
     },
     "execution_count": 12,
     "metadata": {},
     "output_type": "execute_result"
    }
   ],
   "source": [
    "metrics.accuracy_score(y_test, y_pred)"
   ]
  },
  {
   "cell_type": "markdown",
   "metadata": {},
   "source": [
    "Mostramos el valor real (y_test) y la predicción de nuestro modelo (y_pred)"
   ]
  },
  {
   "cell_type": "code",
   "execution_count": 13,
   "metadata": {},
   "outputs": [
    {
     "data": {
      "text/plain": [
       "('Realidad: ',\n",
       " [1, 0, 0, 0, 0, 1, 0, 1, 1, 1, 0],\n",
       " 'Predicción: ',\n",
       " [0, 0, 0, 0, 0, 0, 0, 0, 0, 0, 0])"
      ]
     },
     "execution_count": 13,
     "metadata": {},
     "output_type": "execute_result"
    }
   ],
   "source": [
    "'Realidad: ', list(y_test), 'Predicción: ', list(y_pred)"
   ]
  },
  {
   "cell_type": "markdown",
   "metadata": {},
   "source": [
    "### Conclusiones"
   ]
  },
  {
   "cell_type": "markdown",
   "metadata": {},
   "source": [
    "Se puede observar que el mayor peso para conseguir la victoria es tener un buen rebote ofensivo y un buen factor de tiro.Afecta más a la victoria los balores perdidos por el oponente que los propios.  \n",
    "(porcentaje calculado con la suma de los valores absolutos)"
   ]
  },
  {
   "cell_type": "code",
   "execution_count": null,
   "metadata": {},
   "outputs": [],
   "source": []
  }
 ],
 "metadata": {
  "kernelspec": {
   "display_name": "Python 3",
   "language": "python",
   "name": "python3"
  },
  "language_info": {
   "codemirror_mode": {
    "name": "ipython",
    "version": 3
   },
   "file_extension": ".py",
   "mimetype": "text/x-python",
   "name": "python",
   "nbconvert_exporter": "python",
   "pygments_lexer": "ipython3",
   "version": "3.5.3"
  }
 },
 "nbformat": 4,
 "nbformat_minor": 2
}
